{
 "cells": [
  {
   "cell_type": "code",
   "execution_count": 1,
   "metadata": {},
   "outputs": [
    {
     "name": "stdout",
     "output_type": "stream",
     "text": [
      "Requirement already satisfied: nltk in c:\\users\\priya\\anaconda3\\envs\\gen_ai\\lib\\site-packages (3.9.1)\n",
      "Requirement already satisfied: click in c:\\users\\priya\\anaconda3\\envs\\gen_ai\\lib\\site-packages (from nltk) (8.1.7)\n",
      "Requirement already satisfied: joblib in c:\\users\\priya\\anaconda3\\envs\\gen_ai\\lib\\site-packages (from nltk) (1.4.2)\n",
      "Requirement already satisfied: regex>=2021.8.3 in c:\\users\\priya\\anaconda3\\envs\\gen_ai\\lib\\site-packages (from nltk) (2024.11.6)\n",
      "Requirement already satisfied: tqdm in c:\\users\\priya\\anaconda3\\envs\\gen_ai\\lib\\site-packages (from nltk) (4.67.1)\n",
      "Requirement already satisfied: colorama in c:\\users\\priya\\anaconda3\\envs\\gen_ai\\lib\\site-packages (from click->nltk) (0.4.6)\n"
     ]
    },
    {
     "name": "stderr",
     "output_type": "stream",
     "text": [
      "[nltk_data] Downloading package punkt to C:\\Users\\priya/nltk_data...\n",
      "[nltk_data]   Unzipping tokenizers\\punkt.zip.\n"
     ]
    },
    {
     "data": {
      "text/plain": [
       "True"
      ]
     },
     "execution_count": 1,
     "metadata": {},
     "output_type": "execute_result"
    }
   ],
   "source": [
    "!pip install nltk\n",
    "import nltk\n",
    "nltk.download('punkt')"
   ]
  },
  {
   "cell_type": "code",
   "execution_count": 2,
   "metadata": {},
   "outputs": [],
   "source": [
    "corpus=\"\"\"\n",
    "John, a software engineer, works at TechCorp, a tech company located in San Francisco. He specializes in Python, JavaScript, and C++. John enjoys coding, reading, and hiking. Last week, he worked on an exciting project involving machine learning. \"The project was fantastic,\" John said. \"It helped us automate tasks using neural networks.\"\n",
    "\n",
    "In addition to coding, John is a big fan of soccer. He plays on weekends with his friends, including Alex, Sarah, and Mike. Together, they form a team called \"Tech Giants.\" Recently, they played a match against another team named \"Code Ninjas.\"\n",
    "\n",
    "John's team won 3-1. \"It was an amazing match!\" said Alex. Sarah added, \"The final goal was incredible, right Mike?\" Mike nodded in agreement.\n",
    "\n",
    "\"\"\""
   ]
  },
  {
   "cell_type": "code",
   "execution_count": 3,
   "metadata": {},
   "outputs": [
    {
     "data": {
      "text/plain": [
       "'\\nJohn, a software engineer, works at TechCorp, a tech company located in San Francisco. He specializes in Python, JavaScript, and C++. John enjoys coding, reading, and hiking. Last week, he worked on an exciting project involving machine learning. \"The project was fantastic,\" John said. \"It helped us automate tasks using neural networks.\"\\n\\nIn addition to coding, John is a big fan of soccer. He plays on weekends with his friends, including Alex, Sarah, and Mike. Together, they form a team called \"Tech Giants.\" Recently, they played a match against another team named \"Code Ninjas.\"\\n\\nJohn\\'s team won 3-1. \"It was an amazing match!\" said Alex. Sarah added, \"The final goal was incredible, right Mike?\" Mike nodded in agreement.\\n\\n'"
      ]
     },
     "execution_count": 3,
     "metadata": {},
     "output_type": "execute_result"
    }
   ],
   "source": [
    "corpus"
   ]
  },
  {
   "cell_type": "code",
   "execution_count": 4,
   "metadata": {},
   "outputs": [
    {
     "name": "stdout",
     "output_type": "stream",
     "text": [
      "\n",
      "John, a software engineer, works at TechCorp, a tech company located in San Francisco. He specializes in Python, JavaScript, and C++. John enjoys coding, reading, and hiking. Last week, he worked on an exciting project involving machine learning. \"The project was fantastic,\" John said. \"It helped us automate tasks using neural networks.\"\n",
      "\n",
      "In addition to coding, John is a big fan of soccer. He plays on weekends with his friends, including Alex, Sarah, and Mike. Together, they form a team called \"Tech Giants.\" Recently, they played a match against another team named \"Code Ninjas.\"\n",
      "\n",
      "John's team won 3-1. \"It was an amazing match!\" said Alex. Sarah added, \"The final goal was incredible, right Mike?\" Mike nodded in agreement.\n",
      "\n",
      "\n"
     ]
    }
   ],
   "source": [
    "print(corpus)##removes \\n"
   ]
  },
  {
   "cell_type": "code",
   "execution_count": 20,
   "metadata": {},
   "outputs": [],
   "source": [
    "from nltk.tokenize import PunktSentenceTokenizer"
   ]
  },
  {
   "cell_type": "code",
   "execution_count": 21,
   "metadata": {},
   "outputs": [],
   "source": [
    "tokenizer2=PunktSentenceTokenizer()"
   ]
  },
  {
   "cell_type": "code",
   "execution_count": 22,
   "metadata": {},
   "outputs": [
    {
     "data": {
      "text/plain": [
       "['\\nJohn, a software engineer, works at TechCorp, a tech company located in San Francisco.',\n",
       " 'He specializes in Python, JavaScript, and C++.',\n",
       " 'John enjoys coding, reading, and hiking.',\n",
       " 'Last week, he worked on an exciting project involving machine learning.',\n",
       " '\"The project was fantastic,\" John said.',\n",
       " '\"It helped us automate tasks using neural networks.\"',\n",
       " 'In addition to coding, John is a big fan of soccer.',\n",
       " 'He plays on weekends with his friends, including Alex, Sarah, and Mike.',\n",
       " 'Together, they form a team called \"Tech Giants.\"',\n",
       " 'Recently, they played a match against another team named \"Code Ninjas.\"',\n",
       " \"John's team won 3-1.\",\n",
       " '\"It was an amazing match!\"',\n",
       " 'said Alex.',\n",
       " 'Sarah added, \"The final goal was incredible, right Mike?\"',\n",
       " 'Mike nodded in agreement.']"
      ]
     },
     "execution_count": 22,
     "metadata": {},
     "output_type": "execute_result"
    }
   ],
   "source": [
    "tokenizer2.tokenize(corpus)"
   ]
  },
  {
   "cell_type": "code",
   "execution_count": 27,
   "metadata": {},
   "outputs": [
    {
     "data": {
      "text/plain": [
       "<nltk.tokenize.punkt.PunktSentenceTokenizer at 0x23ecc92a0c0>"
      ]
     },
     "execution_count": 27,
     "metadata": {},
     "output_type": "execute_result"
    }
   ],
   "source": [
    "PunktSentenceTokenizer(corpus)"
   ]
  },
  {
   "cell_type": "code",
   "execution_count": 29,
   "metadata": {},
   "outputs": [],
   "source": [
    "from nltk.tokenize import wordpunct_tokenize"
   ]
  },
  {
   "cell_type": "code",
   "execution_count": 32,
   "metadata": {},
   "outputs": [
    {
     "data": {
      "text/plain": [
       "['John',\n",
       " ',',\n",
       " 'a',\n",
       " 'software',\n",
       " 'engineer',\n",
       " ',',\n",
       " 'works',\n",
       " 'at',\n",
       " 'TechCorp',\n",
       " ',',\n",
       " 'a',\n",
       " 'tech',\n",
       " 'company',\n",
       " 'located',\n",
       " 'in',\n",
       " 'San',\n",
       " 'Francisco',\n",
       " '.',\n",
       " 'He',\n",
       " 'specializes',\n",
       " 'in',\n",
       " 'Python',\n",
       " ',',\n",
       " 'JavaScript',\n",
       " ',',\n",
       " 'and',\n",
       " 'C',\n",
       " '++.',\n",
       " 'John',\n",
       " 'enjoys',\n",
       " 'coding',\n",
       " ',',\n",
       " 'reading',\n",
       " ',',\n",
       " 'and',\n",
       " 'hiking',\n",
       " '.',\n",
       " 'Last',\n",
       " 'week',\n",
       " ',',\n",
       " 'he',\n",
       " 'worked',\n",
       " 'on',\n",
       " 'an',\n",
       " 'exciting',\n",
       " 'project',\n",
       " 'involving',\n",
       " 'machine',\n",
       " 'learning',\n",
       " '.',\n",
       " '\"',\n",
       " 'The',\n",
       " 'project',\n",
       " 'was',\n",
       " 'fantastic',\n",
       " ',\"',\n",
       " 'John',\n",
       " 'said',\n",
       " '.',\n",
       " '\"',\n",
       " 'It',\n",
       " 'helped',\n",
       " 'us',\n",
       " 'automate',\n",
       " 'tasks',\n",
       " 'using',\n",
       " 'neural',\n",
       " 'networks',\n",
       " '.\"',\n",
       " 'In',\n",
       " 'addition',\n",
       " 'to',\n",
       " 'coding',\n",
       " ',',\n",
       " 'John',\n",
       " 'is',\n",
       " 'a',\n",
       " 'big',\n",
       " 'fan',\n",
       " 'of',\n",
       " 'soccer',\n",
       " '.',\n",
       " 'He',\n",
       " 'plays',\n",
       " 'on',\n",
       " 'weekends',\n",
       " 'with',\n",
       " 'his',\n",
       " 'friends',\n",
       " ',',\n",
       " 'including',\n",
       " 'Alex',\n",
       " ',',\n",
       " 'Sarah',\n",
       " ',',\n",
       " 'and',\n",
       " 'Mike',\n",
       " '.',\n",
       " 'Together',\n",
       " ',',\n",
       " 'they',\n",
       " 'form',\n",
       " 'a',\n",
       " 'team',\n",
       " 'called',\n",
       " '\"',\n",
       " 'Tech',\n",
       " 'Giants',\n",
       " '.\"',\n",
       " 'Recently',\n",
       " ',',\n",
       " 'they',\n",
       " 'played',\n",
       " 'a',\n",
       " 'match',\n",
       " 'against',\n",
       " 'another',\n",
       " 'team',\n",
       " 'named',\n",
       " '\"',\n",
       " 'Code',\n",
       " 'Ninjas',\n",
       " '.\"',\n",
       " 'John',\n",
       " \"'\",\n",
       " 's',\n",
       " 'team',\n",
       " 'won',\n",
       " '3',\n",
       " '-',\n",
       " '1',\n",
       " '.',\n",
       " '\"',\n",
       " 'It',\n",
       " 'was',\n",
       " 'an',\n",
       " 'amazing',\n",
       " 'match',\n",
       " '!\"',\n",
       " 'said',\n",
       " 'Alex',\n",
       " '.',\n",
       " 'Sarah',\n",
       " 'added',\n",
       " ',',\n",
       " '\"',\n",
       " 'The',\n",
       " 'final',\n",
       " 'goal',\n",
       " 'was',\n",
       " 'incredible',\n",
       " ',',\n",
       " 'right',\n",
       " 'Mike',\n",
       " '?\"',\n",
       " 'Mike',\n",
       " 'nodded',\n",
       " 'in',\n",
       " 'agreement',\n",
       " '.']"
      ]
     },
     "execution_count": 32,
     "metadata": {},
     "output_type": "execute_result"
    }
   ],
   "source": [
    "wordpunct_tokenize(corpus)"
   ]
  },
  {
   "cell_type": "code",
   "execution_count": null,
   "metadata": {},
   "outputs": [],
   "source": []
  },
  {
   "cell_type": "code",
   "execution_count": null,
   "metadata": {},
   "outputs": [],
   "source": []
  },
  {
   "cell_type": "code",
   "execution_count": null,
   "metadata": {},
   "outputs": [],
   "source": []
  },
  {
   "cell_type": "code",
   "execution_count": null,
   "metadata": {},
   "outputs": [],
   "source": []
  },
  {
   "cell_type": "code",
   "execution_count": null,
   "metadata": {},
   "outputs": [],
   "source": []
  },
  {
   "cell_type": "code",
   "execution_count": null,
   "metadata": {},
   "outputs": [],
   "source": []
  },
  {
   "cell_type": "code",
   "execution_count": null,
   "metadata": {},
   "outputs": [],
   "source": []
  },
  {
   "cell_type": "code",
   "execution_count": null,
   "metadata": {},
   "outputs": [],
   "source": []
  },
  {
   "cell_type": "code",
   "execution_count": null,
   "metadata": {},
   "outputs": [],
   "source": []
  },
  {
   "cell_type": "code",
   "execution_count": null,
   "metadata": {},
   "outputs": [],
   "source": []
  },
  {
   "cell_type": "code",
   "execution_count": null,
   "metadata": {},
   "outputs": [],
   "source": []
  },
  {
   "cell_type": "code",
   "execution_count": null,
   "metadata": {},
   "outputs": [],
   "source": []
  },
  {
   "cell_type": "code",
   "execution_count": null,
   "metadata": {},
   "outputs": [],
   "source": []
  },
  {
   "cell_type": "code",
   "execution_count": null,
   "metadata": {},
   "outputs": [],
   "source": []
  },
  {
   "cell_type": "code",
   "execution_count": null,
   "metadata": {},
   "outputs": [],
   "source": []
  },
  {
   "cell_type": "code",
   "execution_count": null,
   "metadata": {},
   "outputs": [],
   "source": []
  },
  {
   "cell_type": "code",
   "execution_count": null,
   "metadata": {},
   "outputs": [],
   "source": []
  },
  {
   "cell_type": "code",
   "execution_count": null,
   "metadata": {},
   "outputs": [],
   "source": []
  }
 ],
 "metadata": {
  "kernelspec": {
   "display_name": "gen_ai",
   "language": "python",
   "name": "python3"
  },
  "language_info": {
   "codemirror_mode": {
    "name": "ipython",
    "version": 3
   },
   "file_extension": ".py",
   "mimetype": "text/x-python",
   "name": "python",
   "nbconvert_exporter": "python",
   "pygments_lexer": "ipython3",
   "version": "3.12.7"
  }
 },
 "nbformat": 4,
 "nbformat_minor": 2
}
