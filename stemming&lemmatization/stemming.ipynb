{
 "cells": [
  {
   "cell_type": "markdown",
   "metadata": {},
   "source": [
    "words = [\n",
    "    \"running\", \"ran\", \"runner\", \n",
    "    \"jumps\", \"jumping\", \"jumped\", \n",
    "    \"happier\", \"happiest\", \n",
    "    \"studying\", \"studies\", \"studied\", \n",
    "    \"laughing\", \"laughs\", \"laughed\", \n",
    "    \"driving\", \"drives\", \"drove\", \n",
    "    \"easier\", \"easiest\", \n",
    "    \"playing\", \"plays\", \"played\", \n",
    "    \"talking\", \"talks\", \"talked\", \n",
    "    \"working\", \"works\", \"worked\", \n",
    "    \"developing\", \"develops\"\n",
    "]\n"
   ]
  },
  {
   "cell_type": "code",
   "execution_count": 5,
   "metadata": {},
   "outputs": [],
   "source": [
    "words = [\n",
    "    \"running\", \"ran\", \"runner\", \n",
    "    \"jumps\", \"jumping\", \"jumped\", \n",
    "    \"happier\", \"happiest\", \n",
    "    \"studying\", \"studies\", \"studied\", \n",
    "    \"laughing\", \"laughs\", \"laughed\", \n",
    "    \"driving\", \"drives\", \"drove\", \n",
    "    \"easier\", \"easiest\", \n",
    "    \"playing\", \"plays\", \"played\", \n",
    "    \"talking\", \"talks\", \"talked\", \n",
    "    \"working\", \"works\", \"worked\", \n",
    "    \"developing\", \"develops\"\n",
    "]\n"
   ]
  },
  {
   "cell_type": "markdown",
   "metadata": {},
   "source": [
    "### PORTER STEMMER\n"
   ]
  },
  {
   "cell_type": "code",
   "execution_count": 6,
   "metadata": {},
   "outputs": [],
   "source": [
    "from nltk.stem import PorterStemmer"
   ]
  },
  {
   "cell_type": "code",
   "execution_count": 7,
   "metadata": {},
   "outputs": [],
   "source": [
    "stemming=PorterStemmer()"
   ]
  },
  {
   "cell_type": "code",
   "execution_count": null,
   "metadata": {},
   "outputs": [
    {
     "ename": "NameError",
     "evalue": "name 'nltk' is not defined",
     "output_type": "error",
     "traceback": [
      "\u001b[1;31m---------------------------------------------------------------------------\u001b[0m",
      "\u001b[1;31mNameError\u001b[0m                                 Traceback (most recent call last)",
      "Cell \u001b[1;32mIn[26], line 1\u001b[0m\n\u001b[1;32m----> 1\u001b[0m \u001b[43mnltk\u001b[49m\u001b[38;5;241m.\u001b[39mdownload(\u001b[38;5;124m'\u001b[39m\u001b[38;5;124mwordnet\u001b[39m\u001b[38;5;124m'\u001b[39m)\n",
      "\u001b[1;31mNameError\u001b[0m: name 'nltk' is not defined"
     ]
    }
   ],
   "source": []
  },
  {
   "cell_type": "code",
   "execution_count": 8,
   "metadata": {},
   "outputs": [
    {
     "name": "stdout",
     "output_type": "stream",
     "text": [
      "running------>run\n",
      "ran------>ran\n",
      "runner------>runner\n",
      "jumps------>jump\n",
      "jumping------>jump\n",
      "jumped------>jump\n",
      "happier------>happier\n",
      "happiest------>happiest\n",
      "studying------>studi\n",
      "studies------>studi\n",
      "studied------>studi\n",
      "laughing------>laugh\n",
      "laughs------>laugh\n",
      "laughed------>laugh\n",
      "driving------>drive\n",
      "drives------>drive\n",
      "drove------>drove\n",
      "easier------>easier\n",
      "easiest------>easiest\n",
      "playing------>play\n",
      "plays------>play\n",
      "played------>play\n",
      "talking------>talk\n",
      "talks------>talk\n",
      "talked------>talk\n",
      "working------>work\n",
      "works------>work\n",
      "worked------>work\n",
      "developing------>develop\n",
      "develops------>develop\n"
     ]
    }
   ],
   "source": [
    "for word in words:\n",
    "    print(word+\"------>\"+stemming.stem(word))"
   ]
  },
  {
   "cell_type": "markdown",
   "metadata": {},
   "source": [
    "### REGEXPSTEMMER"
   ]
  },
  {
   "cell_type": "code",
   "execution_count": 9,
   "metadata": {},
   "outputs": [],
   "source": [
    "from nltk.stem import RegexpStemmer"
   ]
  },
  {
   "cell_type": "code",
   "execution_count": 12,
   "metadata": {},
   "outputs": [],
   "source": [
    "reg_stemmer=RegexpStemmer('ing$|s$|e$|able$|ed$', min=5)"
   ]
  },
  {
   "cell_type": "code",
   "execution_count": 13,
   "metadata": {},
   "outputs": [
    {
     "name": "stdout",
     "output_type": "stream",
     "text": [
      "running------>runn\n",
      "ran------>ran\n",
      "runner------>runner\n",
      "jumps------>jump\n",
      "jumping------>jump\n",
      "jumped------>jump\n",
      "happier------>happier\n",
      "happiest------>happiest\n",
      "studying------>study\n",
      "studies------>studie\n",
      "studied------>studi\n",
      "laughing------>laugh\n",
      "laughs------>laugh\n",
      "laughed------>laugh\n",
      "driving------>driv\n",
      "drives------>drive\n",
      "drove------>drov\n",
      "easier------>easier\n",
      "easiest------>easiest\n",
      "playing------>play\n",
      "plays------>play\n",
      "played------>play\n",
      "talking------>talk\n",
      "talks------>talk\n",
      "talked------>talk\n",
      "working------>work\n",
      "works------>work\n",
      "worked------>work\n",
      "developing------>develop\n",
      "develops------>develop\n"
     ]
    }
   ],
   "source": [
    "for word in words:\n",
    "    print(word+\"------>\"+reg_stemmer.stem(word))"
   ]
  },
  {
   "cell_type": "markdown",
   "metadata": {},
   "source": [
    "### snowballStemmer"
   ]
  },
  {
   "cell_type": "code",
   "execution_count": 21,
   "metadata": {},
   "outputs": [],
   "source": [
    "from nltk.stem import SnowballStemmer"
   ]
  },
  {
   "cell_type": "code",
   "execution_count": 22,
   "metadata": {},
   "outputs": [],
   "source": [
    "snowballstemmer=SnowballStemmer('english')"
   ]
  },
  {
   "cell_type": "code",
   "execution_count": 23,
   "metadata": {},
   "outputs": [
    {
     "name": "stdout",
     "output_type": "stream",
     "text": [
      "running---->run\n",
      "ran---->ran\n",
      "runner---->runner\n",
      "jumps---->jump\n",
      "jumping---->jump\n",
      "jumped---->jump\n",
      "happier---->happier\n",
      "happiest---->happiest\n",
      "studying---->studi\n",
      "studies---->studi\n",
      "studied---->studi\n",
      "laughing---->laugh\n",
      "laughs---->laugh\n",
      "laughed---->laugh\n",
      "driving---->drive\n",
      "drives---->drive\n",
      "drove---->drove\n",
      "easier---->easier\n",
      "easiest---->easiest\n",
      "playing---->play\n",
      "plays---->play\n",
      "played---->play\n",
      "talking---->talk\n",
      "talks---->talk\n",
      "talked---->talk\n",
      "working---->work\n",
      "works---->work\n",
      "worked---->work\n",
      "developing---->develop\n",
      "develops---->develop\n"
     ]
    }
   ],
   "source": [
    "for word in words:\n",
    "    print(word+\"---->\"+snowballstemmer.stem(word))"
   ]
  },
  {
   "cell_type": "code",
   "execution_count": 24,
   "metadata": {},
   "outputs": [
    {
     "data": {
      "text/plain": [
       "('fairli', 'sportingli')"
      ]
     },
     "execution_count": 24,
     "metadata": {},
     "output_type": "execute_result"
    }
   ],
   "source": [
    "stemming.stem(\"fairly\"),stemming.stem(\"sportingly\")"
   ]
  },
  {
   "cell_type": "code",
   "execution_count": 25,
   "metadata": {},
   "outputs": [
    {
     "data": {
      "text/plain": [
       "('fair', 'sport')"
      ]
     },
     "execution_count": 25,
     "metadata": {},
     "output_type": "execute_result"
    }
   ],
   "source": [
    "snowballstemmer.stem(\"fairly\"),snowballstemmer.stem(\"sportingly\")"
   ]
  },
  {
   "cell_type": "code",
   "execution_count": null,
   "metadata": {},
   "outputs": [],
   "source": []
  },
  {
   "cell_type": "code",
   "execution_count": null,
   "metadata": {},
   "outputs": [],
   "source": []
  },
  {
   "cell_type": "code",
   "execution_count": null,
   "metadata": {},
   "outputs": [],
   "source": []
  },
  {
   "cell_type": "code",
   "execution_count": null,
   "metadata": {},
   "outputs": [],
   "source": []
  },
  {
   "cell_type": "code",
   "execution_count": null,
   "metadata": {},
   "outputs": [],
   "source": []
  },
  {
   "cell_type": "code",
   "execution_count": null,
   "metadata": {},
   "outputs": [],
   "source": []
  },
  {
   "cell_type": "code",
   "execution_count": null,
   "metadata": {},
   "outputs": [],
   "source": []
  },
  {
   "cell_type": "code",
   "execution_count": null,
   "metadata": {},
   "outputs": [],
   "source": []
  }
 ],
 "metadata": {
  "kernelspec": {
   "display_name": "gen_ai",
   "language": "python",
   "name": "python3"
  },
  "language_info": {
   "codemirror_mode": {
    "name": "ipython",
    "version": 3
   },
   "file_extension": ".py",
   "mimetype": "text/x-python",
   "name": "python",
   "nbconvert_exporter": "python",
   "pygments_lexer": "ipython3",
   "version": "3.12.7"
  }
 },
 "nbformat": 4,
 "nbformat_minor": 2
}
